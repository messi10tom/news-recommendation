{
  "nbformat": 4,
  "nbformat_minor": 0,
  "metadata": {
    "colab": {
      "provenance": [],
      "authorship_tag": "ABX9TyNmdvrK578362PqB6n4uTAh",
      "include_colab_link": true
    },
    "kernelspec": {
      "name": "python3",
      "display_name": "Python 3"
    },
    "language_info": {
      "name": "python"
    }
  },
  "cells": [
    {
      "cell_type": "markdown",
      "metadata": {
        "id": "view-in-github",
        "colab_type": "text"
      },
      "source": [
        "<a href=\"https://colab.research.google.com/github/messi10tom/news-recommendation/blob/main/matrix_factorization.ipynb\" target=\"_parent\"><img src=\"https://colab.research.google.com/assets/colab-badge.svg\" alt=\"Open In Colab\"/></a>"
      ]
    },
    {
      "cell_type": "code",
      "execution_count": null,
      "metadata": {
        "id": "1gOvPmi9qcrH"
      },
      "outputs": [],
      "source": [
        "import numpy as np\n",
        "import pandas as pd"
      ]
    },
    {
      "cell_type": "code",
      "source": [
        "# creating dataset\n",
        "\"\"\"\n",
        "we need dataframe to be: user_id | news_id | rating\n",
        "\n",
        "ie.       |news_1 | news_2 | news_3  .....  | news_n |\n",
        "   user_1 | 1     | 2      | 3       .....  | 10     |\n",
        "   user_2 | 4     | 5      | 6       .....  | 9      |\n",
        "   user_3 | 7     | 8      | 9       .....  | 3      |\n",
        "          :       :        :                :        :\n",
        "          :       :        :                :        :\n",
        "   user_n | 10    | 11     | 12      .....  | 5      |\n",
        "\n",
        "\n",
        "rating ε [1, 2, 3, 4, 5, 6, 7, 8, 9, 10]\n",
        "         not liked                liked\n",
        "\"\"\"\n",
        "\n",
        "n_users = 50\n",
        "n_news = 100\n",
        "\n",
        "np.random.seed(42)\n",
        "ratings = np.random.randint(1, 10, size=(n_news))\n",
        "user_id = np.random.randint(1, n_users, size=(n_news))\n",
        "news_id = np.random.randint(1, n_news, size=(n_news))\n",
        "\n",
        "print(f\"number of users: {n_users}\")\n",
        "print(f\"number of news: {n_news}\")\n",
        "print(ratings)\n",
        "print(user_id)\n",
        "print(news_id)"
      ],
      "metadata": {
        "colab": {
          "base_uri": "https://localhost:8080/"
        },
        "id": "C4LGFn-eqoPd",
        "outputId": "413af408-a609-40b4-93e4-44e67e030409"
      },
      "execution_count": null,
      "outputs": [
        {
          "output_type": "stream",
          "name": "stdout",
          "text": [
            "number of users: 50\n",
            "number of news: 100\n",
            "[7 4 8 5 7 3 7 8 5 4 8 8 3 6 5 2 8 6 2 5 1 6 9 1 3 7 4 9 3 5 3 7 5 9 7 2 4\n",
            " 9 2 9 5 2 4 7 8 3 1 4 2 8 4 2 6 6 4 6 2 2 4 8 7 9 8 5 2 5 8 9 9 1 9 7 9 8\n",
            " 1 8 8 3 1 8 3 3 1 5 7 9 7 9 8 2 1 7 7 8 5 3 8 6 3 1]\n",
            "[35 37 47 14  3  1  5 26 14 39 27  9 15 15 26 42 13 32 39 49 32  4 30 37\n",
            " 23 39 45 15 43 29 36 13 32  7 22 28  2 42 45  6 28 28 44 44 20 30 11 28\n",
            " 25 39 33  1 27 13 41  3 39  6  8 27  9 37 33 42 44 24 15 32 32 24 41 49\n",
            " 49 12 39  2  3 49 37 49 17 49  2  2 28 23 37 32 33  1 19  2 44 26 32  6\n",
            " 32  4 11 17]\n",
            "[38 24 69 98 70 86 11 16 97 73 59 70 80 93  3 20 59 36 19 90 67 19 20 96\n",
            " 71 52 33 40 39 82  1 11 92 57 89 50 23 31 94 42 99  7 16 90 60  2  1 48\n",
            " 12 69 37 32  9 99 19 48 80  3 20 24 54 33 24 75 72 36 38 84 99 89 99 25\n",
            " 93 18 82 66 54 35 80 61 41 33 68 33 14 21 48 20  8  7 67 17 33 48 76 59\n",
            " 86 22 30 38]\n"
          ]
        }
      ]
    },
    {
      "cell_type": "code",
      "source": [
        "import matplotlib.pyplot as plt\n",
        "import seaborn as sns\n",
        "\n",
        "ratings = pd.DataFrame(data={\"user_id\": user_id, \"news_id\": news_id, \"rating\": ratings})\n",
        "\n",
        "\n",
        "sns.countplot(x=\"rating\", data=ratings, palette=\"viridis\")\n",
        "plt.title(\"Distribution of movie ratings\", fontsize=14)\n",
        "plt.show()"
      ],
      "metadata": {
        "colab": {
          "base_uri": "https://localhost:8080/",
          "height": 580
        },
        "id": "Cj8VNIXQvGhq",
        "outputId": "dabdbe21-38ad-41bd-83d3-345cf5670930"
      },
      "execution_count": null,
      "outputs": [
        {
          "output_type": "stream",
          "name": "stderr",
          "text": [
            "<ipython-input-44-b315649b7c58>:7: FutureWarning: \n",
            "\n",
            "Passing `palette` without assigning `hue` is deprecated and will be removed in v0.14.0. Assign the `x` variable to `hue` and set `legend=False` for the same effect.\n",
            "\n",
            "  sns.countplot(x=\"rating\", data=ratings, palette=\"viridis\")\n"
          ]
        },
        {
          "output_type": "display_data",
          "data": {
            "text/plain": [
              "<Figure size 640x480 with 1 Axes>"
            ],
            "image/png": "[encoded data removed]"
          },
          "metadata": {}
        }
      ]
    },
    {
      "cell_type": "code",
      "source": [
        "print(f\"Mean global rating: {(ratings['rating'].mean())}.\")\n",
        "print(f\"Median global rating: {(ratings['rating'].median())}.\")\n",
        "print(f\"Standard deviation of global ratings: {(ratings['rating'].std())}.\")\n",
        "\n",
        "ratings.head()"
      ],
      "metadata": {
        "colab": {
          "base_uri": "https://localhost:8080/",
          "height": 258
        },
        "id": "DNS0cZw8wFsn",
        "outputId": "9d310c39-c1fe-4602-d6fc-751fb0c8faf8"
      },
      "execution_count": null,
      "outputs": [
        {
          "output_type": "stream",
          "name": "stdout",
          "text": [
            "Mean global rating: 5.32.\n",
            "Median global rating: 5.0.\n",
            "Standard deviation of global ratings: 2.639559191848656.\n"
          ]
        },
        {
          "output_type": "execute_result",
          "data": {
            "text/plain": [
              "   user_id  news_id  rating\n",
              "0       35       38       7\n",
              "1       37       24       4\n",
              "2       47       69       8\n",
              "3       14       98       5\n",
              "4        3       70       7"
            ],
            "text/html": [
              "\n",
              "  <div id=\"df-f7633a99-769b-43c2-9fa2-0624730f3f0b\" class=\"colab-df-container\">\n",
              "    <div>\n",
              "<style scoped>\n",
              "    .dataframe tbody tr th:only-of-type {\n",
              "        vertical-align: middle;\n",
              "    }\n",
              "\n",
              "    .dataframe tbody tr th {\n",
              "        vertical-align: top;\n",
              "    }\n",
              "\n",
              "    .dataframe thead th {\n",
              "        text-align: right;\n",
              "    }\n",
              "</style>\n",
              "<table border=\"1\" class=\"dataframe\">\n",
              "  <thead>\n",
              "    <tr style=\"text-align: right;\">\n",
              "      <th></th>\n",
              "      <th>user_id</th>\n",
              "      <th>news_id</th>\n",
              "      <th>rating</th>\n",
              "    </tr>\n",
              "  </thead>\n",
              "  <tbody>\n",
              "    <tr>\n",
              "      <th>0</th>\n",
              "      <td>35</td>\n",
              "      <td>38</td>\n",
              "      <td>7</td>\n",
              "    </tr>\n",
              "    <tr>\n",
              "      <th>1</th>\n",
              "      <td>37</td>\n",
              "      <td>24</td>\n",
              "      <td>4</td>\n",
              "    </tr>\n",
              "    <tr>\n",
              "      <th>2</th>\n",
              "      <td>47</td>\n",
              "      <td>69</td>\n",
              "      <td>8</td>\n",
              "    </tr>\n",
              "    <tr>\n",
              "      <th>3</th>\n",
              "      <td>14</td>\n",
              "      <td>98</td>\n",
              "      <td>5</td>\n",
              "    </tr>\n",
              "    <tr>\n",
              "      <th>4</th>\n",
              "      <td>3</td>\n",
              "      <td>70</td>\n",
              "      <td>7</td>\n",
              "    </tr>\n",
              "  </tbody>\n",
              "</table>\n",
              "</div>\n",
              "    <div class=\"colab-df-buttons\">\n",
              "\n",
              "  <div class=\"colab-df-container\">\n",
              "    <button class=\"colab-df-convert\" onclick=\"convertToInteractive('df-f7633a99-769b-43c2-9fa2-0624730f3f0b')\"\n",
              "            title=\"Convert this dataframe to an interactive table.\"\n",
              "            style=\"display:none;\">\n",
              "\n",
              "  <svg xmlns=\"http://www.w3.org/2000/svg\" height=\"24px\" viewBox=\"0 -960 960 960\">\n",
              "    <path d=\"M120-120v-720h720v720H120Zm60-500h600v-160H180v160Zm220 220h160v-160H400v160Zm0 220h160v-160H400v160ZM180-400h160v-160H180v160Zm440 0h160v-160H620v160ZM180-180h160v-160H180v160Zm440 0h160v-160H620v160Z\"/>\n",
              "  </svg>\n",
              "    </button>\n",
              "\n",
              "  <style>\n",
              "    .colab-df-container {\n",
              "      display:flex;\n",
              "      gap: 12px;\n",
              "    }\n",
              "\n",
              "    .colab-df-convert {\n",
              "      background-color: #E8F0FE;\n",
              "      border: none;\n",
              "      border-radius: 50%;\n",
              "      cursor: pointer;\n",
              "      display: none;\n",
              "      fill: #1967D2;\n",
              "      height: 32px;\n",
              "      padding: 0 0 0 0;\n",
              "      width: 32px;\n",
              "    }\n",
              "\n",
              "    .colab-df-convert:hover {\n",
              "      background-color: #E2EBFA;\n",
              "      box-shadow: 0px 1px 2px rgba(60, 64, 67, 0.3), 0px 1px 3px 1px rgba(60, 64, 67, 0.15);\n",
              "      fill: #174EA6;\n",
              "    }\n",
              "\n",
              "    .colab-df-buttons div {\n",
              "      margin-bottom: 4px;\n",
              "    }\n",
              "\n",
              "    [theme=dark] .colab-df-convert {\n",
              "      background-color: #3B4455;\n",
              "      fill: #D2E3FC;\n",
              "    }\n",
              "\n",
              "    [theme=dark] .colab-df-convert:hover {\n",
              "      background-color: #434B5C;\n",
              "      box-shadow: 0px 1px 3px 1px rgba(0, 0, 0, 0.15);\n",
              "      filter: drop-shadow(0px 1px 2px rgba(0, 0, 0, 0.3));\n",
              "      fill: #FFFFFF;\n",
              "    }\n",
              "  </style>\n",
              "\n",
              "    <script>\n",
              "      const buttonEl =\n",
              "        document.querySelector('#df-f7633a99-769b-43c2-9fa2-0624730f3f0b button.colab-df-convert');\n",
              "      buttonEl.style.display =\n",
              "        google.colab.kernel.accessAllowed ? 'block' : 'none';\n",
              "\n",
              "      async function convertToInteractive(key) {\n",
              "        const element = document.querySelector('#df-f7633a99-769b-43c2-9fa2-0624730f3f0b');\n",
              "        const dataTable =\n",
              "          await google.colab.kernel.invokeFunction('convertToInteractive',\n",
              "                                                    [key], {});\n",
              "        if (!dataTable) return;\n",
              "\n",
              "        const docLinkHtml = 'Like what you see? Visit the ' +\n",
              "          '<a target=\"_blank\" href=https://colab.research.google.com/notebooks/data_table.ipynb>data table notebook</a>'\n",
              "          + ' to learn more about interactive tables.';\n",
              "        element.innerHTML = '';\n",
              "        dataTable['output_type'] = 'display_data';\n",
              "        await google.colab.output.renderOutput(dataTable, element);\n",
              "        const docLink = document.createElement('div');\n",
              "        docLink.innerHTML = docLinkHtml;\n",
              "        element.appendChild(docLink);\n",
              "      }\n",
              "    </script>\n",
              "  </div>\n",
              "\n",
              "\n",
              "<div id=\"df-ccd282b2-c74d-415c-be51-40f823980398\">\n",
              "  <button class=\"colab-df-quickchart\" onclick=\"quickchart('df-ccd282b2-c74d-415c-be51-40f823980398')\"\n",
              "            title=\"Suggest charts\"\n",
              "            style=\"display:none;\">\n",
              "\n",
              "<svg xmlns=\"http://www.w3.org/2000/svg\" height=\"24px\"viewBox=\"0 0 24 24\"\n",
              "     width=\"24px\">\n",
              "    <g>\n",
              "        <path d=\"M19 3H5c-1.1 0-2 .9-2 2v14c0 1.1.9 2 2 2h14c1.1 0 2-.9 2-2V5c0-1.1-.9-2-2-2zM9 17H7v-7h2v7zm4 0h-2V7h2v10zm4 0h-2v-4h2v4z\"/>\n",
              "    </g>\n",
              "</svg>\n",
              "  </button>\n",
              "\n",
              "<style>\n",
              "  .colab-df-quickchart {\n",
              "      --bg-color: #E8F0FE;\n",
              "      --fill-color: #1967D2;\n",
              "      --hover-bg-color: #E2EBFA;\n",
              "      --hover-fill-color: #174EA6;\n",
              "      --disabled-fill-color: #AAA;\n",
              "      --disabled-bg-color: #DDD;\n",
              "  }\n",
              "\n",
              "  [theme=dark] .colab-df-quickchart {\n",
              "      --bg-color: #3B4455;\n",
              "      --fill-color: #D2E3FC;\n",
              "      --hover-bg-color: #434B5C;\n",
              "      --hover-fill-color: #FFFFFF;\n",
              "      --disabled-bg-color: #3B4455;\n",
              "      --disabled-fill-color: #666;\n",
              "  }\n",
              "\n",
              "  .colab-df-quickchart {\n",
              "    background-color: var(--bg-color);\n",
              "    border: none;\n",
              "    border-radius: 50%;\n",
              "    cursor: pointer;\n",
              "    display: none;\n",
              "    fill: var(--fill-color);\n",
              "    height: 32px;\n",
              "    padding: 0;\n",
              "    width: 32px;\n",
              "  }\n",
              "\n",
              "  .colab-df-quickchart:hover {\n",
              "    background-color: var(--hover-bg-color);\n",
              "    box-shadow: 0 1px 2px rgba(60, 64, 67, 0.3), 0 1px 3px 1px rgba(60, 64, 67, 0.15);\n",
              "    fill: var(--button-hover-fill-color);\n",
              "  }\n",
              "\n",
              "  .colab-df-quickchart-complete:disabled,\n",
              "  .colab-df-quickchart-complete:disabled:hover {\n",
              "    background-color: var(--disabled-bg-color);\n",
              "    fill: var(--disabled-fill-color);\n",
              "    box-shadow: none;\n",
              "  }\n",
              "\n",
              "  .colab-df-spinner {\n",
              "    border: 2px solid var(--fill-color);\n",
              "    border-color: transparent;\n",
              "    border-bottom-color: var(--fill-color);\n",
              "    animation:\n",
              "      spin 1s steps(1) infinite;\n",
              "  }\n",
              "\n",
              "  @keyframes spin {\n",
              "    0% {\n",
              "      border-color: transparent;\n",
              "      border-bottom-color: var(--fill-color);\n",
              "      border-left-color: var(--fill-color);\n",
              "    }\n",
              "    20% {\n",
              "      border-color: transparent;\n",
              "      border-left-color: var(--fill-color);\n",
              "      border-top-color: var(--fill-color);\n",
              "    }\n",
              "    30% {\n",
              "      border-color: transparent;\n",
              "      border-left-color: var(--fill-color);\n",
              "      border-top-color: var(--fill-color);\n",
              "      border-right-color: var(--fill-color);\n",
              "    }\n",
              "    40% {\n",
              "      border-color: transparent;\n",
              "      border-right-color: var(--fill-color);\n",
              "      border-top-color: var(--fill-color);\n",
              "    }\n",
              "    60% {\n",
              "      border-color: transparent;\n",
              "      border-right-color: var(--fill-color);\n",
              "    }\n",
              "    80% {\n",
              "      border-color: transparent;\n",
              "      border-right-color: var(--fill-color);\n",
              "      border-bottom-color: var(--fill-color);\n",
              "    }\n",
              "    90% {\n",
              "      border-color: transparent;\n",
              "      border-bottom-color: var(--fill-color);\n",
              "    }\n",
              "  }\n",
              "</style>\n",
              "\n",
              "  <script>\n",
              "    async function quickchart(key) {\n",
              "      const quickchartButtonEl =\n",
              "        document.querySelector('#' + key + ' button');\n",
              "      quickchartButtonEl.disabled = true;  // To prevent multiple clicks.\n",
              "      quickchartButtonEl.classList.add('colab-df-spinner');\n",
              "      try {\n",
              "        const charts = await google.colab.kernel.invokeFunction(\n",
              "            'suggestCharts', [key], {});\n",
              "      } catch (error) {\n",
              "        console.error('Error during call to suggestCharts:', error);\n",
              "      }\n",
              "      quickchartButtonEl.classList.remove('colab-df-spinner');\n",
              "      quickchartButtonEl.classList.add('colab-df-quickchart-complete');\n",
              "    }\n",
              "    (() => {\n",
              "      let quickchartButtonEl =\n",
              "        document.querySelector('#df-ccd282b2-c74d-415c-be51-40f823980398 button');\n",
              "      quickchartButtonEl.style.display =\n",
              "        google.colab.kernel.accessAllowed ? 'block' : 'none';\n",
              "    })();\n",
              "  </script>\n",
              "</div>\n",
              "\n",
              "    </div>\n",
              "  </div>\n"
            ],
            "application/vnd.google.colaboratory.intrinsic+json": {
              "type": "dataframe",
              "variable_name": "ratings",
              "summary": "{\n  \"name\": \"ratings\",\n  \"rows\": 100,\n  \"fields\": [\n    {\n      \"column\": \"user_id\",\n      \"properties\": {\n        \"dtype\": \"number\",\n        \"std\": 14,\n        \"min\": 1,\n        \"max\": 49,\n        \"num_unique_values\": 39,\n        \"samples\": [\n          41,\n          12,\n          3\n        ],\n        \"semantic_type\": \"\",\n        \"description\": \"\"\n      }\n    },\n    {\n      \"column\": \"news_id\",\n      \"properties\": {\n        \"dtype\": \"number\",\n        \"std\": 29,\n        \"min\": 1,\n        \"max\": 99,\n        \"num_unique_values\": 62,\n        \"samples\": [\n          66,\n          21,\n          38\n        ],\n        \"semantic_type\": \"\",\n        \"description\": \"\"\n      }\n    },\n    {\n      \"column\": \"rating\",\n      \"properties\": {\n        \"dtype\": \"number\",\n        \"std\": 2,\n        \"min\": 1,\n        \"max\": 9,\n        \"num_unique_values\": 9,\n        \"samples\": [\n          1,\n          4,\n          6\n        ],\n        \"semantic_type\": \"\",\n        \"description\": \"\"\n      }\n    }\n  ]\n}"
            }
          },
          "metadata": {},
          "execution_count": 45
        }
      ]
    },
    {
      "source": [
        "# @title user_id\n",
        "\n",
        "ratings['user_id'].plot(kind='hist', bins=20, title='user_id')\n",
        "plt.gca().spines[['top', 'right',]].set_visible(False)"
      ],
      "cell_type": "code",
      "execution_count": null,
      "outputs": [
        {
          "output_type": "display_data",
          "data": {
            "text/plain": [
              "<Figure size 640x480 with 1 Axes>"
            ],
            "image/png": "[encoded data removed]"
          },
          "metadata": {}
        }
      ],
      "metadata": {
        "colab": {
          "base_uri": "https://localhost:8080/",
          "height": 452
        },
        "id": "H8bLBw-QxljP",
        "outputId": "22cc3f64-11bc-4cf2-f66e-e2ef5d979e26"
      }
    },
    {
      "cell_type": "code",
      "source": [
        "from tensorflow.keras.layers import Embedding\n",
        "from tensorflow.keras.optimizers import Adam\n",
        "from tensorflow.keras.losses import MeanSquaredError\n",
        "\n",
        "\n",
        "embed_dim = 5\n",
        "batchsize = 32\n",
        "epoch = 100\n",
        "\n",
        "user_embed = Embedding(n_users, embed_dim)\n",
        "news_embed = Embedding(n_news, embed_dim)\n",
        "user_optimizer = Adam(learning_rate=0.01)\n",
        "news_optimizer = Adam(learning_rate=0.01)\n",
        "lossOBJ = MeanSquaredError()"
      ],
      "metadata": {
        "id": "SwlIwAOeybQH"
      },
      "execution_count": 59,
      "outputs": []
    },
    {
      "cell_type": "code",
      "source": [
        "import tensorflow as tf\n",
        "from sklearn.model_selection import train_test_split\n",
        "\n",
        "train, test = train_test_split(ratings, test_size=0.2)\n",
        "dataset = tf.data.Dataset.from_tensor_slices((train.user_id, train.news_id, train.rating))\n",
        "dataset.shuffle(10000)\n",
        "dataset = dataset.batch(batchsize)\n",
        "\n",
        "validation = tf.data.Dataset.from_tensor_slices((test.user_id, test.news_id, test.rating))\n",
        "validation = validation.batch(1)"
      ],
      "metadata": {
        "id": "aTE8QdXCx5A3"
      },
      "execution_count": 62,
      "outputs": []
    },
    {
      "cell_type": "code",
      "source": [
        "# optimizing\n",
        "for i in range(epoch):\n",
        "  for user, news, rating in dataset:\n",
        "    with tf.GradientTape() as user_tape, tf.GradientTape() as news_tape:\n",
        "      user_embedding = user_embed(user)\n",
        "      news_embedding = news_embed(news)\n",
        "      loss = lossOBJ(rating, tf.reduce_sum(user_embedding * news_embedding, axis=1))\n",
        "    user_grad = user_tape.gradient(loss, user_embed.trainable_variables)\n",
        "    news_grad = news_tape.gradient(loss, news_embed.trainable_variables)\n",
        "    user_optimizer.apply_gradients(zip(user_grad, user_embed.trainable_variables))\n",
        "    news_optimizer.apply_gradients(zip(news_grad, news_embed.trainable_variables))\n",
        "  if i % 10 == 0:\n",
        "    print(f\"Epoch {i}, Loss: {loss}\")\n",
        "  # break"
      ],
      "metadata": {
        "id": "ztemClniAcMV",
        "colab": {
          "base_uri": "https://localhost:8080/"
        },
        "outputId": "aae82e05-4c5a-4ba1-a369-85c860014c25"
      },
      "execution_count": 60,
      "outputs": [
        {
          "output_type": "stream",
          "name": "stdout",
          "text": [
            "Epoch 0, Loss: 37.57714080810547\n",
            "Epoch 10, Loss: 35.32103729248047\n",
            "Epoch 20, Loss: 26.050594329833984\n",
            "Epoch 30, Loss: 12.719792366027832\n",
            "Epoch 40, Loss: 3.6768078804016113\n",
            "Epoch 50, Loss: 0.679069459438324\n",
            "Epoch 60, Loss: 0.10260207951068878\n",
            "Epoch 70, Loss: 0.02037344127893448\n",
            "Epoch 80, Loss: 0.0070424629375338554\n",
            "Epoch 90, Loss: 0.0033928235061466694\n"
          ]
        }
      ]
    },
    {
      "cell_type": "code",
      "source": [
        "for user, news, rating in validation:\n",
        "  user_embedding = user_embed(user)\n",
        "  news_embedding = news_embed(news)\n",
        "  predicted = (tf.reduce_sum(user_embedding * news_embedding, axis=1))\n",
        "  loss = tf.round(lossOBJ(rating, predicted))\n",
        "  print(f\"Rating: {rating[0]}, Predicted: {predicted[0]} loss: {loss}\")\n"
      ],
      "metadata": {
        "colab": {
          "base_uri": "https://localhost:8080/"
        },
        "id": "V6H1VJ7ZF9xq",
        "outputId": "3580b9e3-9c19-4203-8d8f-6c8000b0e9fe"
      },
      "execution_count": 78,
      "outputs": [
        {
          "output_type": "stream",
          "name": "stdout",
          "text": [
            "Rating: 5, Predicted: 5.007743835449219 loss: 0.0\n",
            "Rating: 5, Predicted: 4.954391956329346 loss: 0.0\n",
            "Rating: 3, Predicted: 3.00900936126709 loss: 0.0\n",
            "Rating: 1, Predicted: 1.0119221210479736 loss: 0.0\n",
            "Rating: 7, Predicted: 7.014701843261719 loss: 0.0\n",
            "Rating: 7, Predicted: 6.931973457336426 loss: 0.0\n",
            "Rating: 7, Predicted: 6.98931884765625 loss: 0.0\n",
            "Rating: 6, Predicted: 5.990716934204102 loss: 0.0\n",
            "Rating: 5, Predicted: -0.02784682810306549 loss: 25.0\n",
            "Rating: 6, Predicted: 6.250720500946045 loss: 0.0\n",
            "Rating: 9, Predicted: 8.902460098266602 loss: 0.0\n",
            "Rating: 7, Predicted: 6.996280670166016 loss: 0.0\n",
            "Rating: 6, Predicted: 6.039678573608398 loss: 0.0\n",
            "Rating: 2, Predicted: 2.0004186630249023 loss: 0.0\n",
            "Rating: 8, Predicted: 8.022404670715332 loss: 0.0\n",
            "Rating: 6, Predicted: 5.995837688446045 loss: 0.0\n",
            "Rating: 9, Predicted: 9.418416023254395 loss: 0.0\n",
            "Rating: 3, Predicted: 2.9998934268951416 loss: 0.0\n",
            "Rating: 8, Predicted: 7.966640472412109 loss: 0.0\n",
            "Rating: 9, Predicted: -0.04312789440155029 loss: 82.0\n"
          ]
        }
      ]
    }
  ]
}